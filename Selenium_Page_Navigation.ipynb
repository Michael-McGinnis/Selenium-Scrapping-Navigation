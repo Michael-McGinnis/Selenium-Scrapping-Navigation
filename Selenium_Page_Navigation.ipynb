{
 "cells": [
  {
   "cell_type": "code",
   "execution_count": 13,
   "id": "ffa45f04-1ca3-47e9-a142-7816c5a944af",
   "metadata": {},
   "outputs": [
    {
     "name": "stderr",
     "output_type": "stream",
     "text": [
      "/tmp/ipykernel_401000/3689409691.py:11: DeprecationWarning: executable_path has been deprecated, please pass in a Service object\n",
      "  driver = webdriver.Chrome(PATH)\n"
     ]
    }
   ],
   "source": [
    "from selenium import webdriver\n",
    "from selenium.webdriver.common.keys import Keys\n",
    "from selenium.webdriver.common.by import By\n",
    "from selenium.webdriver.support.wait import WebDriverWait\n",
    "from selenium.webdriver.support import expected_conditions as EC\n",
    "import time\n",
    "\n",
    "PATH = '/home/kali/chromedriver'\n",
    "\n",
    "#Choose Web browser\n",
    "driver = webdriver.Chrome(PATH)\n",
    "\n",
    "driver.get('https://python.org')\n",
    "link = driver.find_element(\"link text\", \"Documentation\")\n",
    "\n",
    "time.sleep(3)\n",
    "\n",
    "link.click()     \n",
    "\n",
    "time.sleep(3)\n",
    "\n",
    "#Add in wait while page loads properly\n",
    "\n",
    "try:\n",
    "    element = WebDriverWait(driver, 10).until(\n",
    "        EC.presence_of_element_located((By.LINK_TEXT, \"Beginner's Guide\"))\n",
    "    )\n",
    "    element.click()\n",
    "    \n",
    "    element = WebDriverWait(driver, 10).until(\n",
    "        EC.presence_of_element_located((By.LINK_TEXT, \"BeginnersGuide/Overview\"))\n",
    "    )\n",
    "    element.click()\n",
    "    \n",
    "    time.sleep(3)\n",
    "    driver.back()\n",
    "    time.sleep(1)\n",
    "    driver.back()\n",
    "    time.sleep(1)\n",
    "    driver.back()\n",
    "    time.sleep(3)\n",
    "    \n",
    "finally:\n",
    "    driver.quit() #Close Connection"
   ]
  },
  {
   "cell_type": "code",
   "execution_count": null,
   "id": "453ccd71-bc38-4c5a-ad1c-3e6dd75b7d2e",
   "metadata": {},
   "outputs": [],
   "source": []
  }
 ],
 "metadata": {
  "kernelspec": {
   "display_name": "Python 3 (ipykernel)",
   "language": "python",
   "name": "python3"
  },
  "language_info": {
   "codemirror_mode": {
    "name": "ipython",
    "version": 3
   },
   "file_extension": ".py",
   "mimetype": "text/x-python",
   "name": "python",
   "nbconvert_exporter": "python",
   "pygments_lexer": "ipython3",
   "version": "3.9.13"
  }
 },
 "nbformat": 4,
 "nbformat_minor": 5
}
