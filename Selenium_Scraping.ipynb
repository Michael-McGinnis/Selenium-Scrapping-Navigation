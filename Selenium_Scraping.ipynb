{
 "cells": [
  {
   "cell_type": "code",
   "execution_count": 36,
   "id": "eea659ee-3045-4e71-8d19-2e28e6ee76fc",
   "metadata": {},
   "outputs": [
    {
     "name": "stderr",
     "output_type": "stream",
     "text": [
      "/tmp/ipykernel_261019/3799747208.py:11: DeprecationWarning: executable_path has been deprecated, please pass in a Service object\n",
      "  driver = webdriver.Chrome(PATH)\n"
     ]
    },
    {
     "name": "stdout",
     "output_type": "stream",
     "text": [
      "Tech With Tim - Python & Java Programming Tutorials - techwithtim.net\n",
      "HTTP MethodsIn this tutorial we will talk about HTTP methods. HTTP methods are the standard way of sending information to and from a web server. To break it down, a website runs on a server or multiple servers and simple returns information to a client (web-browser). Information is exchanged between the client and the server […]\n",
      "Creating a Base Template So you may have realized that creating new web pages for every single page on our website is extremely inefficient. Especially when our website follows a theme and has similar elements (like a sidebar) on every page. This is where template inheritance comes in. We will talk about how to inherit […]\n",
      "Redirecting ContinuedStarting from where we left off in the last tutorial. I wanted to show how to redirect to a function that takes an argument (like our user function). To do this we simply need to define the parameter name and a value in the url_for function, like below.from flask import Flask, redirect, url_for app […]\n",
      "What is Flask?Flask is a known as a micro web framework. This means it provides some basic functionality to allow developers to build simple websites. It does not come with all the bells and whistles like some other web frameworks like django have and therefore is typically not used for complex websites. However, there is […]\n",
      "Up until this point we have only been able to get events the next upcoming events from our google calendar. In this tutorial I will show you how you can retrieve a list of events that occur in one day. Using Pyttsx3 In the previous tutorials we used gTTS (Google Text-to-Speech) to output audio and […]\n",
      "In this tutorial we will finish our get_date() function and test it out! PLEASE USE THE CODE BELOW, IT FIXES SOME ERRORS FROM THE VIDEO ABOVE Finishing get_date() Now that we have extracted the information from the text it’s time to process it. There are a few scenarios we need to consider: 1. We have […]\n",
      "Getting User Input In the last tutorial we learned how to output sound from our python script using the gTTS module. In this video we will do the opposite, we will get user input and turn it into text data that we can process. Let’s get started by creating a function called get_audio. def get_audio(): […]\n",
      "This PyQt5 Tutorial will show you how to create message boxes/popup windows using pyqt. We will use the QMessageBox class to accomplish this. Creating a Basic GUI I’ve started this tutorial by creating a very minimal GUI that contains one button. This way we can use the button press to trigger a popup/mesagebox. This is […]\n",
      "This PyQt5 Combobox tutorial will show how to create, use and manipulate comboboxes. For those of you unaware a combobox is a box that allows you to choose an item from a list of choices. Creating The GUI For this tutorial we will create a GUI that can simulate the XOR function. We will use […]\n",
      "This PyQt5 tutorial will show you how to display images using something called a QPixmap. Displaying an Image For this tutorial we will create an image using PyQt Designer and then change them image source from our python code. To display an image we can actually use a label! We will start by dragging in […]\n"
     ]
    }
   ],
   "source": [
    "from selenium import webdriver\n",
    "from selenium.webdriver.common.keys import Keys\n",
    "from selenium.webdriver.common.by import By\n",
    "from selenium.webdriver.support.wait import WebDriverWait\n",
    "from selenium.webdriver.support import expected_conditions as EC\n",
    "import time\n",
    "\n",
    "PATH = '/home/kali/chromedriver'\n",
    "\n",
    "#Choose Web browser\n",
    "driver = webdriver.Chrome(PATH)\n",
    "\n",
    "driver.get('https://techwithtim.net')\n",
    "print(driver.title)\n",
    "\n",
    "search = driver.find_element(\"name\", \"s\")\n",
    "#Note that Selenium has changed find_element_by_name to find_element(\"name\", \"your value\")\n",
    "search.send_keys(\"test\")\n",
    "search.send_keys(Keys.RETURN)\n",
    "\n",
    "#If you wanted to print the entire source code\n",
    "#Can also scrape any information from here as well\n",
    "#print(driver.page_source)\n",
    "\n",
    "# An explicit wait is a code you define to wait for a certain condition to occur before \n",
    "# proceeding further in the code. The extreme case of this is time.sleep(), which sets \n",
    "# the condition to an exact time period to wait. There are some convenient methods \n",
    "# provided that help you write code that will wait only as long as required. \n",
    "# WebDriverWait in combination with ExpectedCondition is one way this can be accomplished.\n",
    "\n",
    "#Using this line below will result in an error due to the time needed to open the\n",
    "#page and start to look for our element(s); the code will try to start pulling in data\n",
    "#prior to the page being open, or to move onto the next page\n",
    "\n",
    "#main = driver.find_element_by_id(\"main\")\n",
    "\n",
    "#As mentioned above, this is the better technique to use to wait\n",
    "\n",
    "try:\n",
    "    main = WebDriverWait(driver, 10).until(\n",
    "        EC.presence_of_element_located((By.ID, \"main\"))\n",
    "    )\n",
    "    #print(main.text)\n",
    "    \n",
    "    #Be sure to add elements & not element, as element \n",
    "    #will not return an iterable object\n",
    "    \n",
    "    articles = main.find_elements(By.TAG_NAME, \"article\")\n",
    "    for article in articles:\n",
    "        header = article.find_element(By.CLASS_NAME, \"entry-summary\")\n",
    "        print(header.text)\n",
    "# #As per the documentation, finally is used here, but we need to change to except.\n",
    "# #Using finally will quit the program no matter if it works or not. \n",
    "# #We only want to quit if our EC (Expected Condition is not met).\n",
    "finally:    \n",
    "    driver.quit() #Close Connection\n",
    "           \n",
    "           \n",
    "\n"
   ]
  },
  {
   "cell_type": "code",
   "execution_count": null,
   "id": "1efd9fc7-7b3f-40b9-96b0-d7133eaef46f",
   "metadata": {},
   "outputs": [],
   "source": []
  },
  {
   "cell_type": "code",
   "execution_count": null,
   "id": "cd3d23dd-c1a4-452b-be60-d5def5a5cecf",
   "metadata": {},
   "outputs": [],
   "source": []
  }
 ],
 "metadata": {
  "kernelspec": {
   "display_name": "Python 3 (ipykernel)",
   "language": "python",
   "name": "python3"
  },
  "language_info": {
   "codemirror_mode": {
    "name": "ipython",
    "version": 3
   },
   "file_extension": ".py",
   "mimetype": "text/x-python",
   "name": "python",
   "nbconvert_exporter": "python",
   "pygments_lexer": "ipython3",
   "version": "3.9.13"
  }
 },
 "nbformat": 4,
 "nbformat_minor": 5
}
